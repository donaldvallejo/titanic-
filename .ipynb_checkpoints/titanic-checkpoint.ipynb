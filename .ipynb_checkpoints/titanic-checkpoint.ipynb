{
 "cells": [
  {
   "cell_type": "code",
   "execution_count": 131,
   "id": "3842ebe4-b713-4c6f-90fc-df2f47b01c65",
   "metadata": {},
   "outputs": [
    {
     "name": "stdout",
     "output_type": "stream",
     "text": [
      "ModeResult(mode=array([3]), count=array([5]))\n"
     ]
    },
    {
     "data": {
      "text/plain": [
       "4.391304347826087"
      ]
     },
     "execution_count": 131,
     "metadata": {},
     "output_type": "execute_result"
    }
   ],
   "source": [
    "import numpy as np\n",
    "import pandas as pd\n",
    "import matplotlib.pyplot as plt\n",
    "import scipy.stats as stats\n",
    "import seaborn as sn\n",
    "\n",
    "df_titanic = pd.read_csv('titanic.csv')\n",
    "df_titanic.head()\n",
    "\n",
    "mode = stats.mode(data)\n",
    "print(mode)\n",
    "\n",
    "data = np.array([1, 3, 5, 2, 3, 7, 8, 4, 10, 0, 6, 7, 3, 0, 3, 0, 5, 7, 10, 1, 4, 9, 3])\n",
    "\n",
    "def compute_mean(dataset):\n",
    "    # make a sum variable\n",
    "    sum = 0\n",
    "\n",
    "    # loop over the listand add up all total\n",
    "    for t in dataset:\n",
    "        sum = sum + t\n",
    "\n",
    "    # divide the total by the length of the list\n",
    "    mean = sum / len(dataset)\n",
    "\n",
    "    # return the mean\n",
    "    return mean\n",
    "\n",
    "compute_mean(data)"
   ]
  },
  {
   "cell_type": "code",
   "execution_count": 132,
   "id": "5cee370c-29b6-423b-879c-eae83c3a580b",
   "metadata": {},
   "outputs": [
    {
     "data": {
      "text/plain": [
       "4.391304347826087"
      ]
     },
     "execution_count": 132,
     "metadata": {},
     "output_type": "execute_result"
    }
   ],
   "source": [
    "np.mean(data)"
   ]
  },
  {
   "cell_type": "code",
   "execution_count": 133,
   "id": "7184e3a5-cf26-411a-8551-17e408c36ee2",
   "metadata": {},
   "outputs": [],
   "source": [
    "def compute_median(dataset):\n",
    "    # check if the dataset is even or odd\n",
    "    if dataset % 2 != 0:\n",
    "      # if odd, subtract the length by 1, divide in half, and then take the next element\n",
    "      median_index = (len(dataset) - 1)/2 + 1\n",
    "      median = dataset[median_index]\n",
    "    else:\n",
    "      # otherwise, divide the dataset in half and take the mean of the two middling elements\n",
    "      left_index = len(dataset)/2 + 1\n",
    "      right_index = len(dataset)/2 - 1\n",
    "      median = (dataset(left_index) + dataset(right_index))/2\n",
    "    return median"
   ]
  },
  {
   "cell_type": "code",
   "execution_count": 134,
   "id": "9bced801-164a-416f-852f-db8aec7e3463",
   "metadata": {},
   "outputs": [
    {
     "data": {
      "text/plain": [
       "4.0"
      ]
     },
     "execution_count": 134,
     "metadata": {},
     "output_type": "execute_result"
    }
   ],
   "source": [
    "np.median(data)"
   ]
  },
  {
   "cell_type": "code",
   "execution_count": 135,
   "id": "8e31ed39-ac6a-4877-b165-a9419041206c",
   "metadata": {},
   "outputs": [
    {
     "name": "stdout",
     "output_type": "stream",
     "text": [
      "\n",
      "----------- Calculate Mean -----------\n",
      "\n",
      "Apple     16.500000\n",
      "Orange    11.333333\n",
      "Banana    11.666667\n",
      "Pear      16.333333\n",
      "dtype: float64\n",
      "\n",
      "----------- Calculate Median -----------\n",
      "\n",
      "Apple      8.5\n",
      "Orange    14.0\n",
      "Banana     8.5\n",
      "Pear      10.0\n",
      "dtype: float64\n",
      "\n",
      "----------- Calculate Mode -----------\n",
      "\n",
      "   Apple  Orange  Banana  Pear\n",
      "0      7      14       1     8\n"
     ]
    }
   ],
   "source": [
    "df = pd.DataFrame([[10, 20, 30, 40], [7, 14, 21, 28], [55, 15, 8, 12],\n",
    "                   [15, 14, 1, 8], [7, 1, 1, 8], [5, 4, 9, 2]],\n",
    "                  columns=['Apple', 'Orange', 'Banana', 'Pear'],\n",
    "                  index=['Basket1', 'Basket2', 'Basket3', 'Basket4',\n",
    "                         'Basket5', 'Basket6'])\n",
    "\n",
    "print(\"\\n----------- Calculate Mean -----------\\n\")\n",
    "print(df.mean())\n",
    "\n",
    "print(\"\\n----------- Calculate Median -----------\\n\")\n",
    "print(df.median())\n",
    "\n",
    "print(\"\\n----------- Calculate Mode -----------\\n\")\n",
    "print(df.mode())"
   ]
  },
  {
   "cell_type": "code",
   "execution_count": 136,
   "id": "6ab55d7d-ea25-4791-ba8a-fc46fc79620f",
   "metadata": {},
   "outputs": [
    {
     "data": {
      "text/html": [
       "<div>\n",
       "<style scoped>\n",
       "    .dataframe tbody tr th:only-of-type {\n",
       "        vertical-align: middle;\n",
       "    }\n",
       "\n",
       "    .dataframe tbody tr th {\n",
       "        vertical-align: top;\n",
       "    }\n",
       "\n",
       "    .dataframe thead th {\n",
       "        text-align: right;\n",
       "    }\n",
       "</style>\n",
       "<table border=\"1\" class=\"dataframe\">\n",
       "  <thead>\n",
       "    <tr style=\"text-align: right;\">\n",
       "      <th></th>\n",
       "      <th>Apple</th>\n",
       "      <th>Orange</th>\n",
       "      <th>Banana</th>\n",
       "      <th>Pear</th>\n",
       "    </tr>\n",
       "  </thead>\n",
       "  <tbody>\n",
       "    <tr>\n",
       "      <th>count</th>\n",
       "      <td>6.000000</td>\n",
       "      <td>6.000000</td>\n",
       "      <td>6.000000</td>\n",
       "      <td>6.000000</td>\n",
       "    </tr>\n",
       "    <tr>\n",
       "      <th>mean</th>\n",
       "      <td>16.500000</td>\n",
       "      <td>11.333333</td>\n",
       "      <td>11.666667</td>\n",
       "      <td>16.333333</td>\n",
       "    </tr>\n",
       "    <tr>\n",
       "      <th>std</th>\n",
       "      <td>19.180719</td>\n",
       "      <td>7.257180</td>\n",
       "      <td>11.587349</td>\n",
       "      <td>14.555640</td>\n",
       "    </tr>\n",
       "    <tr>\n",
       "      <th>min</th>\n",
       "      <td>5.000000</td>\n",
       "      <td>1.000000</td>\n",
       "      <td>1.000000</td>\n",
       "      <td>2.000000</td>\n",
       "    </tr>\n",
       "    <tr>\n",
       "      <th>25%</th>\n",
       "      <td>7.000000</td>\n",
       "      <td>6.500000</td>\n",
       "      <td>2.750000</td>\n",
       "      <td>8.000000</td>\n",
       "    </tr>\n",
       "    <tr>\n",
       "      <th>50%</th>\n",
       "      <td>8.500000</td>\n",
       "      <td>14.000000</td>\n",
       "      <td>8.500000</td>\n",
       "      <td>10.000000</td>\n",
       "    </tr>\n",
       "    <tr>\n",
       "      <th>75%</th>\n",
       "      <td>13.750000</td>\n",
       "      <td>14.750000</td>\n",
       "      <td>18.000000</td>\n",
       "      <td>24.000000</td>\n",
       "    </tr>\n",
       "    <tr>\n",
       "      <th>max</th>\n",
       "      <td>55.000000</td>\n",
       "      <td>20.000000</td>\n",
       "      <td>30.000000</td>\n",
       "      <td>40.000000</td>\n",
       "    </tr>\n",
       "  </tbody>\n",
       "</table>\n",
       "</div>"
      ],
      "text/plain": [
       "           Apple     Orange     Banana       Pear\n",
       "count   6.000000   6.000000   6.000000   6.000000\n",
       "mean   16.500000  11.333333  11.666667  16.333333\n",
       "std    19.180719   7.257180  11.587349  14.555640\n",
       "min     5.000000   1.000000   1.000000   2.000000\n",
       "25%     7.000000   6.500000   2.750000   8.000000\n",
       "50%     8.500000  14.000000   8.500000  10.000000\n",
       "75%    13.750000  14.750000  18.000000  24.000000\n",
       "max    55.000000  20.000000  30.000000  40.000000"
      ]
     },
     "execution_count": 136,
     "metadata": {},
     "output_type": "execute_result"
    }
   ],
   "source": [
    "df.describe()"
   ]
  },
  {
   "cell_type": "code",
   "execution_count": 137,
   "id": "fb544d7b-c105-4c5c-b190-6b65ca71657c",
   "metadata": {
    "tags": []
   },
   "outputs": [
    {
     "data": {
      "text/plain": [
       "(6, 4)"
      ]
     },
     "execution_count": 137,
     "metadata": {},
     "output_type": "execute_result"
    }
   ],
   "source": [
    "df.shape"
   ]
  },
  {
   "cell_type": "code",
   "execution_count": 138,
   "id": "54e28fa9-fad4-438a-bd60-eb66d640f00c",
   "metadata": {},
   "outputs": [
    {
     "data": {
      "text/plain": [
       "Apple     int64\n",
       "Orange    int64\n",
       "Banana    int64\n",
       "Pear      int64\n",
       "dtype: object"
      ]
     },
     "execution_count": 138,
     "metadata": {},
     "output_type": "execute_result"
    }
   ],
   "source": [
    "df.dtypes"
   ]
  },
  {
   "cell_type": "code",
   "execution_count": 139,
   "id": "351e7d98-7985-4081-8012-a6e9e0e0e249",
   "metadata": {},
   "outputs": [
    {
     "data": {
      "text/plain": [
       "Apple     0\n",
       "Orange    0\n",
       "Banana    0\n",
       "Pear      0\n",
       "dtype: int64"
      ]
     },
     "execution_count": 139,
     "metadata": {},
     "output_type": "execute_result"
    }
   ],
   "source": [
    "df.isnull().sum()"
   ]
  },
  {
   "cell_type": "code",
   "execution_count": 140,
   "id": "2ef7fca8-09df-4629-85ea-9fa960c9c004",
   "metadata": {},
   "outputs": [
    {
     "data": {
      "text/plain": [
       "0    24.0\n",
       "dtype: float64"
      ]
     },
     "execution_count": 140,
     "metadata": {},
     "output_type": "execute_result"
    }
   ],
   "source": [
    "df_titanic['Age'].mean()\n",
    "df_titanic['Age'].median()\n",
    "df_titanic['Age'].mode()"
   ]
  },
  {
   "cell_type": "code",
   "execution_count": null,
   "id": "6fde19db-47c6-45bf-a73c-c425cdf88ce3",
   "metadata": {},
   "outputs": [],
   "source": [
    "df_titanic[\"Age\"].max()"
   ]
  },
  {
   "cell_type": "code",
   "execution_count": null,
   "id": "47bed786-69bc-4f11-bf31-33dc8992de37",
   "metadata": {},
   "outputs": [],
   "source": [
    "df_titanic[\"Fare\"].min()"
   ]
  },
  {
   "cell_type": "code",
   "execution_count": null,
   "id": "d2d29ffb-bb61-4473-8da5-7f8054538751",
   "metadata": {},
   "outputs": [],
   "source": [
    "(df_titanic[\"Fare\"].min(), df_titanic[\"Fare\"].max())"
   ]
  },
  {
   "cell_type": "code",
   "execution_count": null,
   "id": "ae265ac7-fe53-48a9-b3cc-df7b5133b22f",
   "metadata": {},
   "outputs": [],
   "source": [
    "variance_1 = [7,8,7,8,9,6,7,7,7,8,9,8,7,4]\n",
    "\n",
    "print(\"Variance:\", np.var(variance_1))\n",
    "print(\"Mean:\", np.mean(variance_1))\n",
    "print(\"Min:\", np.min(variance_1))\n",
    "print(\"Max:\", np.max(variance_1))\n",
    "print(\"Range:\", np.max(variance_1) - np.min(variance_1))\n"
   ]
  },
  {
   "cell_type": "code",
   "execution_count": null,
   "id": "852a0f50-53e7-4a2c-9576-c939fec4333c",
   "metadata": {},
   "outputs": [],
   "source": [
    "variance_2 = [102,2,50023,30,3040,50,20,1,50,-304,-50349]\n",
    "\n",
    "print(\"Variance:\",np.var(variance_2))\n",
    "print(\"Mean:\", np.mean(variance_2))\n",
    "print(\"Min:\", np.min(variance_2))\n",
    "print(\"Max:\", np.max(variance_2))\n",
    "print(\"Range:\", np.max(variance_2) - np.min(variance_2))\n"
   ]
  },
  {
   "cell_type": "code",
   "execution_count": null,
   "id": "3b3ba2af-c672-4af1-a5b6-6083ba212cc1",
   "metadata": {},
   "outputs": [],
   "source": [
    "def standard_deviation(series):    \n",
    "     # Compute the mean of the series\n",
    "  # Find the squares of all the deviations from the mean\n",
    "  # Sum the squares of the deviations from the mean\n",
    "  # Divide this sum by the total number of data values\n",
    "  # Take the squareroot of this quotient.\n",
    "    series_mean = np.mean(series)\n",
    "    squares = float()\n",
    "    for number in series:\n",
    "        square = (number - series_mean)**2\n",
    "        squares += square\n",
    "    total = np.sqrt(squares / len(series))\n",
    "    return total\n",
    "    # squares.append(square)\n",
    "        \n",
    "print(\"Standard Deviation:\", standard_deviation(variance_1))\n",
    "print(\"Standard Deviation:\", np.std(variance_1))\n",
    "print(\"Standard Deviation:\", standard_deviation(variance_2))\n",
    "print(\"Standard Deviation:\", np.std(variance_2))"
   ]
  },
  {
   "cell_type": "code",
   "execution_count": null,
   "id": "e209a1e7-64c5-46e8-81f4-9cd5e4c54ed2",
   "metadata": {},
   "outputs": [],
   "source": [
    "df = pd.read_csv('titanic.csv')\n",
    "df.var()"
   ]
  },
  {
   "cell_type": "code",
   "execution_count": null,
   "id": "ff72891c-eb76-4326-8710-6ea00cb7ad79",
   "metadata": {},
   "outputs": [],
   "source": [
    "df.hist('Age')\n",
    "df.hist('Fare')"
   ]
  },
  {
   "cell_type": "code",
   "execution_count": null,
   "id": "8c7d0f35-ef25-4bac-803f-e54c2c235bcf",
   "metadata": {},
   "outputs": [],
   "source": [
    "df.describe()"
   ]
  },
  {
   "cell_type": "code",
   "execution_count": null,
   "id": "25dc500c-d822-47fb-afc9-6514d464ae56",
   "metadata": {},
   "outputs": [],
   "source": [
    "# Age Histogram\n",
    "plt.hist(df.Age)\n",
    "plt.axvline(df.Age.mean(), color='k', linestyle='dashed', linewidth=1)\n",
    "plt.title('Ages of Passengers on Titanic')\n",
    "plt.ylabel('Count')\n",
    "plt.xlabel('Age (in Years)')"
   ]
  },
  {
   "cell_type": "code",
   "execution_count": null,
   "id": "7ceb58b7-3c0f-4829-acce-d00021d97af8",
   "metadata": {},
   "outputs": [],
   "source": [
    "plt.hist(df.Fare)\n",
    "plt.axvline(df.Fare.mean(), color='k', linestyle='dashed', linewidth=1)\n",
    "plt.title('Fares of Passengers on Titanic')\n",
    "plt.ylabel('Count')\n",
    "plt.xlabel('Fare (in Dollars)')"
   ]
  },
  {
   "cell_type": "code",
   "execution_count": null,
   "id": "b67f255d-decd-46a5-8349-2663c9bb6965",
   "metadata": {},
   "outputs": [],
   "source": [
    "# Age\n",
    "plt.axvline(df.Age.mean()+df.Age.std(), color='k', linestyle='dashed', linewidth=1)\n",
    "plt.axvline(df.Age.mean()-df.Age.std(), color='k', linestyle='dashed', linewidth=1)"
   ]
  },
  {
   "cell_type": "code",
   "execution_count": null,
   "id": "720d0467-d345-434a-a28f-af240b0686a9",
   "metadata": {},
   "outputs": [],
   "source": [
    "# Fare\n",
    "plt.axvline(df.Fare.mean()+df.Fare.std(), color='k', linestyle='dashed', linewidth=1)\n",
    "plt.axvline(df.Fare.mean()-df.Fare.std(), color='k', linestyle='dashed', linewidth=1)"
   ]
  },
  {
   "cell_type": "code",
   "execution_count": null,
   "id": "15a7ed70-5b3b-41ac-a52f-a4f191e53032",
   "metadata": {},
   "outputs": [],
   "source": [
    "df['Survived'].corr(df['Age'])"
   ]
  },
  {
   "cell_type": "code",
   "execution_count": null,
   "id": "ebca17d6-d4a8-4218-aa6b-7258add97ee2",
   "metadata": {},
   "outputs": [],
   "source": [
    "df['Sex'].str.get_dummies().corrwith(df['Survived']/df['Survived'].max())"
   ]
  },
  {
   "cell_type": "code",
   "execution_count": null,
   "id": "f8ed2075-9802-42e3-b32b-6b32fb12c357",
   "metadata": {},
   "outputs": [],
   "source": [
    "df.corr()"
   ]
  },
  {
   "cell_type": "code",
   "execution_count": null,
   "id": "3d2c8747-7095-495d-a32d-5f5f22d9c45c",
   "metadata": {},
   "outputs": [],
   "source": [
    "sn.heatmap(df.corr(), annot=True)\n",
    "plt.show()"
   ]
  },
  {
   "cell_type": "code",
   "execution_count": 142,
   "id": "6970a905-fa9b-41b1-9182-407462894683",
   "metadata": {},
   "outputs": [
    {
     "ename": "KeyError",
     "evalue": "\"['PassengerId'] not found in axis\"",
     "output_type": "error",
     "traceback": [
      "\u001b[0;31m---------------------------------------------------------------------------\u001b[0m",
      "\u001b[0;31mKeyError\u001b[0m                                  Traceback (most recent call last)",
      "\u001b[0;32m<ipython-input-142-45a59e797798>\u001b[0m in \u001b[0;36m<module>\u001b[0;34m\u001b[0m\n\u001b[0;32m----> 1\u001b[0;31m \u001b[0mdf\u001b[0m \u001b[0;34m=\u001b[0m \u001b[0mdf\u001b[0m\u001b[0;34m.\u001b[0m\u001b[0mdrop\u001b[0m\u001b[0;34m(\u001b[0m\u001b[0;34m[\u001b[0m\u001b[0;34m'PassengerId'\u001b[0m\u001b[0;34m]\u001b[0m\u001b[0;34m,\u001b[0m \u001b[0maxis\u001b[0m\u001b[0;34m=\u001b[0m\u001b[0;36m1\u001b[0m\u001b[0;34m)\u001b[0m\u001b[0;34m\u001b[0m\u001b[0;34m\u001b[0m\u001b[0m\n\u001b[0m",
      "\u001b[0;32m~/opt/anaconda3/lib/python3.8/site-packages/pandas/core/frame.py\u001b[0m in \u001b[0;36mdrop\u001b[0;34m(self, labels, axis, index, columns, level, inplace, errors)\u001b[0m\n\u001b[1;32m   4306\u001b[0m                 \u001b[0mweight\u001b[0m  \u001b[0;36m1.0\u001b[0m     \u001b[0;36m0.8\u001b[0m\u001b[0;34m\u001b[0m\u001b[0;34m\u001b[0m\u001b[0m\n\u001b[1;32m   4307\u001b[0m         \"\"\"\n\u001b[0;32m-> 4308\u001b[0;31m         return super().drop(\n\u001b[0m\u001b[1;32m   4309\u001b[0m             \u001b[0mlabels\u001b[0m\u001b[0;34m=\u001b[0m\u001b[0mlabels\u001b[0m\u001b[0;34m,\u001b[0m\u001b[0;34m\u001b[0m\u001b[0;34m\u001b[0m\u001b[0m\n\u001b[1;32m   4310\u001b[0m             \u001b[0maxis\u001b[0m\u001b[0;34m=\u001b[0m\u001b[0maxis\u001b[0m\u001b[0;34m,\u001b[0m\u001b[0;34m\u001b[0m\u001b[0;34m\u001b[0m\u001b[0m\n",
      "\u001b[0;32m~/opt/anaconda3/lib/python3.8/site-packages/pandas/core/generic.py\u001b[0m in \u001b[0;36mdrop\u001b[0;34m(self, labels, axis, index, columns, level, inplace, errors)\u001b[0m\n\u001b[1;32m   4151\u001b[0m         \u001b[0;32mfor\u001b[0m \u001b[0maxis\u001b[0m\u001b[0;34m,\u001b[0m \u001b[0mlabels\u001b[0m \u001b[0;32min\u001b[0m \u001b[0maxes\u001b[0m\u001b[0;34m.\u001b[0m\u001b[0mitems\u001b[0m\u001b[0;34m(\u001b[0m\u001b[0;34m)\u001b[0m\u001b[0;34m:\u001b[0m\u001b[0;34m\u001b[0m\u001b[0;34m\u001b[0m\u001b[0m\n\u001b[1;32m   4152\u001b[0m             \u001b[0;32mif\u001b[0m \u001b[0mlabels\u001b[0m \u001b[0;32mis\u001b[0m \u001b[0;32mnot\u001b[0m \u001b[0;32mNone\u001b[0m\u001b[0;34m:\u001b[0m\u001b[0;34m\u001b[0m\u001b[0;34m\u001b[0m\u001b[0m\n\u001b[0;32m-> 4153\u001b[0;31m                 \u001b[0mobj\u001b[0m \u001b[0;34m=\u001b[0m \u001b[0mobj\u001b[0m\u001b[0;34m.\u001b[0m\u001b[0m_drop_axis\u001b[0m\u001b[0;34m(\u001b[0m\u001b[0mlabels\u001b[0m\u001b[0;34m,\u001b[0m \u001b[0maxis\u001b[0m\u001b[0;34m,\u001b[0m \u001b[0mlevel\u001b[0m\u001b[0;34m=\u001b[0m\u001b[0mlevel\u001b[0m\u001b[0;34m,\u001b[0m \u001b[0merrors\u001b[0m\u001b[0;34m=\u001b[0m\u001b[0merrors\u001b[0m\u001b[0;34m)\u001b[0m\u001b[0;34m\u001b[0m\u001b[0;34m\u001b[0m\u001b[0m\n\u001b[0m\u001b[1;32m   4154\u001b[0m \u001b[0;34m\u001b[0m\u001b[0m\n\u001b[1;32m   4155\u001b[0m         \u001b[0;32mif\u001b[0m \u001b[0minplace\u001b[0m\u001b[0;34m:\u001b[0m\u001b[0;34m\u001b[0m\u001b[0;34m\u001b[0m\u001b[0m\n",
      "\u001b[0;32m~/opt/anaconda3/lib/python3.8/site-packages/pandas/core/generic.py\u001b[0m in \u001b[0;36m_drop_axis\u001b[0;34m(self, labels, axis, level, errors)\u001b[0m\n\u001b[1;32m   4186\u001b[0m                 \u001b[0mnew_axis\u001b[0m \u001b[0;34m=\u001b[0m \u001b[0maxis\u001b[0m\u001b[0;34m.\u001b[0m\u001b[0mdrop\u001b[0m\u001b[0;34m(\u001b[0m\u001b[0mlabels\u001b[0m\u001b[0;34m,\u001b[0m \u001b[0mlevel\u001b[0m\u001b[0;34m=\u001b[0m\u001b[0mlevel\u001b[0m\u001b[0;34m,\u001b[0m \u001b[0merrors\u001b[0m\u001b[0;34m=\u001b[0m\u001b[0merrors\u001b[0m\u001b[0;34m)\u001b[0m\u001b[0;34m\u001b[0m\u001b[0;34m\u001b[0m\u001b[0m\n\u001b[1;32m   4187\u001b[0m             \u001b[0;32melse\u001b[0m\u001b[0;34m:\u001b[0m\u001b[0;34m\u001b[0m\u001b[0;34m\u001b[0m\u001b[0m\n\u001b[0;32m-> 4188\u001b[0;31m                 \u001b[0mnew_axis\u001b[0m \u001b[0;34m=\u001b[0m \u001b[0maxis\u001b[0m\u001b[0;34m.\u001b[0m\u001b[0mdrop\u001b[0m\u001b[0;34m(\u001b[0m\u001b[0mlabels\u001b[0m\u001b[0;34m,\u001b[0m \u001b[0merrors\u001b[0m\u001b[0;34m=\u001b[0m\u001b[0merrors\u001b[0m\u001b[0;34m)\u001b[0m\u001b[0;34m\u001b[0m\u001b[0;34m\u001b[0m\u001b[0m\n\u001b[0m\u001b[1;32m   4189\u001b[0m             \u001b[0mresult\u001b[0m \u001b[0;34m=\u001b[0m \u001b[0mself\u001b[0m\u001b[0;34m.\u001b[0m\u001b[0mreindex\u001b[0m\u001b[0;34m(\u001b[0m\u001b[0;34m**\u001b[0m\u001b[0;34m{\u001b[0m\u001b[0maxis_name\u001b[0m\u001b[0;34m:\u001b[0m \u001b[0mnew_axis\u001b[0m\u001b[0;34m}\u001b[0m\u001b[0;34m)\u001b[0m\u001b[0;34m\u001b[0m\u001b[0;34m\u001b[0m\u001b[0m\n\u001b[1;32m   4190\u001b[0m \u001b[0;34m\u001b[0m\u001b[0m\n",
      "\u001b[0;32m~/opt/anaconda3/lib/python3.8/site-packages/pandas/core/indexes/base.py\u001b[0m in \u001b[0;36mdrop\u001b[0;34m(self, labels, errors)\u001b[0m\n\u001b[1;32m   5589\u001b[0m         \u001b[0;32mif\u001b[0m \u001b[0mmask\u001b[0m\u001b[0;34m.\u001b[0m\u001b[0many\u001b[0m\u001b[0;34m(\u001b[0m\u001b[0;34m)\u001b[0m\u001b[0;34m:\u001b[0m\u001b[0;34m\u001b[0m\u001b[0;34m\u001b[0m\u001b[0m\n\u001b[1;32m   5590\u001b[0m             \u001b[0;32mif\u001b[0m \u001b[0merrors\u001b[0m \u001b[0;34m!=\u001b[0m \u001b[0;34m\"ignore\"\u001b[0m\u001b[0;34m:\u001b[0m\u001b[0;34m\u001b[0m\u001b[0;34m\u001b[0m\u001b[0m\n\u001b[0;32m-> 5591\u001b[0;31m                 \u001b[0;32mraise\u001b[0m \u001b[0mKeyError\u001b[0m\u001b[0;34m(\u001b[0m\u001b[0;34mf\"{labels[mask]} not found in axis\"\u001b[0m\u001b[0;34m)\u001b[0m\u001b[0;34m\u001b[0m\u001b[0;34m\u001b[0m\u001b[0m\n\u001b[0m\u001b[1;32m   5592\u001b[0m             \u001b[0mindexer\u001b[0m \u001b[0;34m=\u001b[0m \u001b[0mindexer\u001b[0m\u001b[0;34m[\u001b[0m\u001b[0;34m~\u001b[0m\u001b[0mmask\u001b[0m\u001b[0;34m]\u001b[0m\u001b[0;34m\u001b[0m\u001b[0;34m\u001b[0m\u001b[0m\n\u001b[1;32m   5593\u001b[0m         \u001b[0;32mreturn\u001b[0m \u001b[0mself\u001b[0m\u001b[0;34m.\u001b[0m\u001b[0mdelete\u001b[0m\u001b[0;34m(\u001b[0m\u001b[0mindexer\u001b[0m\u001b[0;34m)\u001b[0m\u001b[0;34m\u001b[0m\u001b[0;34m\u001b[0m\u001b[0m\n",
      "\u001b[0;31mKeyError\u001b[0m: \"['PassengerId'] not found in axis\""
     ]
    }
   ],
   "source": [
    "df = df.drop(['PassengerId'], axis=1)"
   ]
  },
  {
   "cell_type": "code",
   "execution_count": null,
   "id": "9ca75cb0-3426-4168-8a78-0f7a8df18c60",
   "metadata": {},
   "outputs": [],
   "source": []
  }
 ],
 "metadata": {
  "kernelspec": {
   "display_name": "Python 3",
   "language": "python",
   "name": "python3"
  },
  "language_info": {
   "codemirror_mode": {
    "name": "ipython",
    "version": 3
   },
   "file_extension": ".py",
   "mimetype": "text/x-python",
   "name": "python",
   "nbconvert_exporter": "python",
   "pygments_lexer": "ipython3",
   "version": "3.8.8"
  }
 },
 "nbformat": 4,
 "nbformat_minor": 5
}
